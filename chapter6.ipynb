{
 "cells": [
  {
   "cell_type": "code",
   "execution_count": 2,
   "id": "c665a178-2046-4a70-b0e5-003fae0164e1",
   "metadata": {
    "tags": []
   },
   "outputs": [],
   "source": [
    "from PyQt5.QtWidgets import *\n",
    "from PyQt5.QtCore import QCoreApplication\n",
    "import sys\n",
    "import platform\n",
    "if platform.system() == \"Windows\":\n",
    "    import winsound\n",
    "import cv2\n",
    "import numpy as np"
   ]
  },
  {
   "cell_type": "markdown",
   "id": "03cebc31-b57e-4872-9056-be6e5940d98f",
   "metadata": {},
   "source": [
    "## 6.2 PyQt를 이용한 사용자 인터페이스"
   ]
  },
  {
   "cell_type": "code",
   "execution_count": 2,
   "id": "a3e6f07f-8196-4175-9f64-46bf980ea423",
   "metadata": {
    "tags": []
   },
   "outputs": [],
   "source": [
    "class BeepSound(QMainWindow):\n",
    "    def __init__(self):\n",
    "        super().__init__()\n",
    "        self.setWindowTitle(\"삑 소리 내기\")\n",
    "        self.setGeometry(200, 200, 500, 100)\n",
    "        \n",
    "        short_beep_button = QPushButton(\"짧게 삑\", self)\n",
    "        long_beep_button = QPushButton(\"길게 삑\", self)\n",
    "        quit_button = QPushButton(\"나가기\", self)\n",
    "        \n",
    "        self.label = QLabel(\"환영합니다!\", self)\n",
    "        \n",
    "        short_beep_button.setGeometry(10, 10, 100, 30)\n",
    "        long_beep_button.setGeometry(110, 10, 100, 30)\n",
    "        quit_button.setGeometry(210, 10, 100, 30)\n",
    "        self.label.setGeometry(10, 40, 500, 70)\n",
    "        \n",
    "        short_beep_button.clicked.connect(self.short_beep_function)\n",
    "        long_beep_button.clicked.connect(self.long_beep_function)\n",
    "        quit_button.clicked.connect(self.quit_function)\n",
    "        \n",
    "    def short_beep_function(self):\n",
    "        self.label.setText(\"주파수 1000으로 0.5초 동안 삑 소리를 냅니다.\")\n",
    "        winsound.Beep(1000, 500)\n",
    "    \n",
    "    def long_beep_function(self):\n",
    "        self.label.setText(\"주파수 1000으로 3초 동안 삑 소리를 냅니다.\")\n",
    "        winsound.Beep(1000, 3000)\n",
    "        \n",
    "    def quit_function(self):\n",
    "        self.close()\n",
    "        \n",
    "\n",
    "app = QCoreApplication.instance()\n",
    "if app is None:\n",
    "    app = QApplication(sys.argv)\n",
    "win = BeepSound()\n",
    "win.show()\n",
    "app.exec_()"
   ]
  },
  {
   "cell_type": "code",
   "execution_count": 3,
   "id": "c75f74e4-8e8a-41dc-b09e-a231a558e9e2",
   "metadata": {
    "tags": []
   },
   "outputs": [
    {
     "data": {
      "text/plain": [
       "0"
      ]
     },
     "execution_count": 3,
     "metadata": {},
     "output_type": "execute_result"
    }
   ],
   "source": [
    "class Video(QMainWindow):\n",
    "    def __init__(self):\n",
    "        super().__init__()\n",
    "        self.setWindowTitle(\"비디오에서 프레임 수집\")\n",
    "        self.setGeometry(200, 200, 500, 100)\n",
    "        \n",
    "        video_button = QPushButton(\"비디오 켜기\", self)\n",
    "        capture_button = QPushButton(\"프레임 잡기\", self)\n",
    "        save_button = QPushButton(\"프레임 저장\", self)\n",
    "        quit_button = QPushButton(\"나가기\", self)\n",
    "        \n",
    "        video_button.setGeometry(10, 10, 100, 30)\n",
    "        capture_button.setGeometry(110, 10, 100, 30)\n",
    "        save_button.setGeometry(210, 10, 100, 30)\n",
    "        quit_button.setGeometry(310, 10, 100, 30)\n",
    "        \n",
    "        video_button.clicked.connect(self.video_function)\n",
    "        capture_button.clicked.connect(self.capture_function)\n",
    "        save_button.clicked.connect(self.save_function)\n",
    "        quit_button.clicked.connect(self.quit_function)\n",
    "        \n",
    "    def video_function(self):\n",
    "        self.cap = cv2.VideoCapture(0, cv2.CAP_DSHOW)\n",
    "        if not self.cap.isOpened(): self.close()\n",
    "        \n",
    "        while True:\n",
    "            ret, self.frame = self.cap.read()\n",
    "            if not ret: break\n",
    "            cv2.imshow(\"Video display\", self.frame)\n",
    "            cv2.waitKey(1)\n",
    "        \n",
    "    def capture_function(self):\n",
    "        self.capture_frame = self.frame\n",
    "        cv2.imshow(\"Captured Frame\", self.frame)\n",
    "    \n",
    "    def save_function(self):\n",
    "        f_name = QFileDialog.getSaveFileName(self, \"파일 저장\", \"./\")\n",
    "        cv2.imwrite(f_name[0], self.capture_frame)\n",
    "        \n",
    "    def quit_function(self):\n",
    "        self.cap.release()\n",
    "        cv2.destroyAllWindows()\n",
    "        self.close()\n",
    "        \n",
    "\n",
    "app = QCoreApplication.instance()\n",
    "if app is None:\n",
    "    app = QApplication(sys.argv)\n",
    "win = Video()\n",
    "win.show()\n",
    "app.exec_()"
   ]
  },
  {
   "cell_type": "markdown",
   "id": "50b942ab-69a5-4f6a-bf4b-8146c8781509",
   "metadata": {},
   "source": [
    "## 6.3 오림"
   ]
  },
  {
   "cell_type": "code",
   "execution_count": 2,
   "id": "726b138b-489b-4259-aaad-1c5e3b8f03b7",
   "metadata": {
    "tags": []
   },
   "outputs": [
    {
     "data": {
      "text/plain": [
       "0"
      ]
     },
     "execution_count": 2,
     "metadata": {},
     "output_type": "execute_result"
    }
   ],
   "source": [
    "class Orim(QMainWindow):\n",
    "    def __init__(self):\n",
    "        super().__init__()\n",
    "        self.setWindowTitle(\"오림\")\n",
    "        self.setGeometry(200, 200, 700, 200)\n",
    "        \n",
    "        file_button = QPushButton(\"파일\", self)\n",
    "        paint_button = QPushButton(\"페인팅\", self)\n",
    "        cut_button = QPushButton(\"오림\", self)\n",
    "        inc_button = QPushButton('+', self)\n",
    "        dec_button = QPushButton('-', self)\n",
    "        save_button = QPushButton(\"저장\", self)\n",
    "        quit_button = QPushButton(\"나가기\", self)\n",
    "        \n",
    "        \n",
    "        file_button.setGeometry(10, 10, 100, 30)\n",
    "        paint_button.setGeometry(110, 10, 100, 30)\n",
    "        cut_button.setGeometry(210, 10, 100, 30)\n",
    "        inc_button.setGeometry(310, 10, 50, 30)\n",
    "        dec_button.setGeometry(360, 10, 50, 30)\n",
    "        save_button.setGeometry(410, 10, 100, 30)\n",
    "        quit_button.setGeometry(510, 10, 100, 30)\n",
    "        \n",
    "        file_button.clicked.connect(self.file_open_function)\n",
    "        paint_button.clicked.connect(self.painting_function)\n",
    "        cut_button.clicked.connect(self.cut_function)\n",
    "        inc_button.clicked.connect(self.inc_function)\n",
    "        dec_button.clicked.connect(self.dec_function)\n",
    "        save_button.clicked.connect(self.save_function)\n",
    "        quit_button.clicked.connect(self.quit_function)\n",
    "        \n",
    "        self.brush_size = 5\n",
    "        self.left_color, self.right_color = (255, 0, 0), (0, 0, 255)\n",
    "        \n",
    "    def file_open_function(self):\n",
    "        f_name = QFileDialog.getOpenFileName(self, \"open file\", \"./\")\n",
    "        self.img = cv2.imread(f_name[0])\n",
    "        if self.img is None: sys.exit(\"파일을 찾을 수 없습니다.\")\n",
    "        \n",
    "        self.img_show = np.copy(self.img)\n",
    "        cv2.imshow(\"Painting\", self.img_show)\n",
    "        \n",
    "        self.mask = np.zeros((self.img.shape[0], self.img.shape[1]), np.uint8)\n",
    "        self.mask[:, :] = cv2.GC_PR_BGD\n",
    "        \n",
    "    def painting_function(self):\n",
    "        cv2.setMouseCallback(\"Painting\", self.painting)\n",
    "        \n",
    "    def painting(self, event, x, y, flags, param):\n",
    "        if event == cv2.EVENT_LBUTTONDOWN:\n",
    "            cv2.circle(self.img_show, (x, y), self.brush_size, self.left_color, -1)\n",
    "            cv2.circle(self.mask, (x, y), self.brush_size, cv2.GC_FGD, -1)\n",
    "        elif event == cv2.EVENT_RBUTTONDOWN:\n",
    "            cv2.circle(self.img_show, (x, y), self.brush_size, self.right_color, -1)\n",
    "            cv2.circle(self.mask, (x, y), self.brush_size, cv2.GC_FGD, -1)\n",
    "        elif event == cv2.EVENT_MOUSEMOVE and flags == cv2.EVENT_FLAG_LBUTTON:\n",
    "            cv2.circle(self.img_show, (x, y), self.brush_size, self.left_color, -1)\n",
    "            cv2.circle(self.mask, (x, y), self.brush_size, cv2.GC_FGD, -1)\n",
    "        elif event == cv2.EVENT_MOUSEMOVE and flags == cv2.EVENT_FLAG_RBUTTON:\n",
    "            cv2.circle(self.img_show, (x, y), self.brush_size, self.right_color, -1)\n",
    "            cv2.circle(self.mask, (x, y), self.brush_size, cv2.GC_FGD, -1)\n",
    "        \n",
    "        cv2.imshow(\"Painting\", self.img_show)\n",
    "        \n",
    "    def cut_function(self):\n",
    "        background = np.zeros((1, 65), np.float64)\n",
    "        foreground = np.zeros((1, 65), np.float64)\n",
    "        \n",
    "        cv2.grabCut(self.img, self.mask, None, background, foreground, 5, cv2.GC_INIT_WITH_MASK)\n",
    "        mask2 = np.where((self.mask == 2) | (self.mask == 0), 0, 1).astype(\"uint8\")\n",
    "        self.grabImg = self.img*mask2[..., np.newaxis]\n",
    "        cv2.imshow(\"Scissoring\", self.grabImg)\n",
    "        \n",
    "    def inc_function(self):\n",
    "        self.brush_size = min(20, self.brush_size + 1)\n",
    "        \n",
    "    def dec_function(self):\n",
    "        self.brush_size = max(1, self.brush_size - 1)\n",
    "        \n",
    "    def save_function(self):\n",
    "        f_name = QFileDialog.getSaveFileName(self, \"파일 저장\", './')\n",
    "        cv2.imwrite(f_name[0], self.grabImg)\n",
    "        \n",
    "    def quit_function(self):\n",
    "        cv2.destroyAllWindows()\n",
    "        self.close()\n",
    "\n",
    "        \n",
    "app = QCoreApplication.instance()\n",
    "if app is None:\n",
    "    app = QApplication(sys.argv)\n",
    "win = Orim()\n",
    "win.show()\n",
    "app.exec_()"
   ]
  },
  {
   "cell_type": "code",
   "execution_count": null,
   "id": "1b938ec0-91a7-46e3-89f2-eae0ccd8ede4",
   "metadata": {},
   "outputs": [],
   "source": []
  }
 ],
 "metadata": {
  "kernelspec": {
   "display_name": "Python 3 (ipykernel)",
   "language": "python",
   "name": "python3"
  },
  "language_info": {
   "codemirror_mode": {
    "name": "ipython",
    "version": 3
   },
   "file_extension": ".py",
   "mimetype": "text/x-python",
   "name": "python",
   "nbconvert_exporter": "python",
   "pygments_lexer": "ipython3",
   "version": "3.9.16"
  }
 },
 "nbformat": 4,
 "nbformat_minor": 5
}
