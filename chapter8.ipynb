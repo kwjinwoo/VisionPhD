{
 "cells": [
  {
   "cell_type": "code",
   "execution_count": 30,
   "id": "35f7a400-d81c-4a68-b4ca-9b7c6bfdea2c",
   "metadata": {},
   "outputs": [],
   "source": [
    "import torch\n",
    "import torch.nn as nn\n",
    "import torch.nn.functional as F\n",
    "import torch.optim as optim\n",
    "from torchvision import datasets, transforms\n",
    "import numpy as np"
   ]
  },
  {
   "cell_type": "markdown",
   "id": "cf285515-58f7-4a0e-b9af-54223163a013",
   "metadata": {},
   "source": [
    "### Conv layer와 FC layer의 weight 수 비교"
   ]
  },
  {
   "cell_type": "code",
   "execution_count": 21,
   "id": "cd41a064-a127-4709-ae65-d703fe707866",
   "metadata": {
    "tags": []
   },
   "outputs": [
    {
     "name": "stdout",
     "output_type": "stream",
     "text": [
      "fc layer weight : 12292\n",
      "cnn layer weight : 1792\n"
     ]
    }
   ],
   "source": [
    "fc = nn.Linear(in_features=3 * 32 * 32, out_features=4)\n",
    "cnn = nn.Conv2d(in_channels=3, out_channels=64, kernel_size=3)\n",
    "\n",
    "fc_num_weight = np.prod(fc.weight.size()) + fc.bias.size()[0]\n",
    "cnn_num_weight = np.prod(cnn.weight.size()) + cnn.bias.size()[0]\n",
    "\n",
    "print(\"fc layer weight :\", fc_num_weight)\n",
    "print(\"cnn layer weight :\", cnn_num_weight)"
   ]
  },
  {
   "cell_type": "markdown",
   "id": "973f02f2-df46-45d5-b1ce-243db8745b68",
   "metadata": {},
   "source": [
    "## block 쌓기"
   ]
  },
  {
   "cell_type": "code",
   "execution_count": 28,
   "id": "ef5f814f-da92-4d85-871c-28167b9ce59f",
   "metadata": {
    "tags": []
   },
   "outputs": [],
   "source": [
    "class ConvBlock(nn.Module):\n",
    "    def __init__(self, in_channel, out_channel, kernel_size, stride, padding):\n",
    "        super().__init__()\n",
    "        self.conv = nn.Conv2d(in_channels=in_channel, out_channels=out_channel, kernel_size=kernel_size,\n",
    "                              stride=stride, padding=padding)\n",
    "        self.pool = nn.MaxPool2d(kernel_size=2, stride=2)\n",
    "        self.relu = nn.ReLU(inplace=True)\n",
    "        \n",
    "    def forward(self, inputs):\n",
    "        x = self.conv(inputs)\n",
    "        x = self.relu(x)\n",
    "        x = self.pool(x)\n",
    "        return x"
   ]
  },
  {
   "cell_type": "code",
   "execution_count": 31,
   "id": "c481f800-591c-475a-bdbe-b4d56dec794b",
   "metadata": {
    "tags": []
   },
   "outputs": [
    {
     "data": {
      "text/plain": [
       "torch.Size([1, 64, 16, 16])"
      ]
     },
     "execution_count": 31,
     "metadata": {},
     "output_type": "execute_result"
    }
   ],
   "source": [
    "conv = ConvBlock(3, 64, 3, 1, \"same\")\n",
    "temp = torch.randn(1, 3, 32, 32)\n",
    "conv(temp).size()"
   ]
  },
  {
   "cell_type": "markdown",
   "id": "429a271c-ccbb-42b7-bff3-23e879ad276f",
   "metadata": {},
   "source": [
    "## 8.4 컨볼루션 신경망 구현"
   ]
  },
  {
   "cell_type": "code",
   "execution_count": 81,
   "id": "759b1bf3-d6a3-4027-9011-0accdd2aee69",
   "metadata": {
    "tags": []
   },
   "outputs": [
    {
     "name": "stdout",
     "output_type": "stream",
     "text": [
      "EPOCH 1: Train Step : 100\tLoss : 1.722700\n",
      "EPOCH 1: Train Step : 200\tLoss : 1.583469\n",
      "EPOCH 1: Train Step : 300\tLoss : 1.612290\n",
      "EPOCH 1: Train Step : 400\tLoss : 1.635639\n",
      "EPOCH 2: Train Step : 100\tLoss : 1.483484\n",
      "EPOCH 2: Train Step : 200\tLoss : 1.503726\n",
      "EPOCH 2: Train Step : 300\tLoss : 1.500521\n",
      "EPOCH 2: Train Step : 400\tLoss : 1.503649\n",
      "EPOCH 3: Train Step : 100\tLoss : 1.485402\n",
      "EPOCH 3: Train Step : 200\tLoss : 1.462831\n",
      "EPOCH 3: Train Step : 300\tLoss : 1.480335\n",
      "EPOCH 3: Train Step : 400\tLoss : 1.469154\n"
     ]
    }
   ],
   "source": [
    "device = torch.device('cuda' if torch.cuda.is_available() else 'cpu')\n",
    "train_data = datasets.MNIST(root = './data/02/',\n",
    "                            train=True,\n",
    "                            download=True,\n",
    "                            transform=transforms.ToTensor())\n",
    "test_data = datasets.MNIST(root = './data/02/',\n",
    "                            train=False,\n",
    "                            download=True,\n",
    "                            transform=transforms.ToTensor())\n",
    "train_loader = torch.utils.data.DataLoader(dataset=train_data,\n",
    "                                           batch_size=128, shuffle=True)\n",
    "test_loader = torch.utils.data.DataLoader(dataset=test_data,\n",
    "                                           batch_size=128, shuffle=False)\n",
    "\n",
    "class LeNet(nn.Module):\n",
    "    def __init__(self):\n",
    "        super().__init__()\n",
    "        self.conv1 = ConvBlock(1, 6, 5, 1, \"same\")\n",
    "        self.conv2 = ConvBlock(6, 16, 5, 1, \"valid\")\n",
    "        self.conv3 = nn.Conv2d(in_channels=16, out_channels=120, kernel_size=5, padding=\"valid\")\n",
    "        self.fc1 = nn.Linear(in_features=120, out_features=84)\n",
    "        self.relu1 = nn.ReLU(inplace=True)\n",
    "        self.fc2 = nn.Linear(84, 10)\n",
    "        self.softmax = nn.Softmax(dim=1)\n",
    "    \n",
    "    def forward(self, inputs):\n",
    "        x = self.conv1(inputs)\n",
    "        x = self.conv2(x)\n",
    "        x = self.conv3(x)\n",
    "        x = torch.flatten(x, 1)\n",
    "        x = self.relu1(self.fc1(x))\n",
    "        out = self.fc2(x)\n",
    "        return self.softmax(out)\n",
    "    \n",
    "model = LeNet().to(device)    \n",
    "criterion = nn.CrossEntropyLoss()\n",
    "optimizer = optim.Adam(model.parameters(), lr=0.001)\n",
    "\n",
    "model.train()\n",
    "for epoch in range(3):\n",
    "    for i, (data, target) in enumerate(train_loader):\n",
    "        data = data.to(device)\n",
    "        target = target.to(device)\n",
    "        optimizer.zero_grad()\n",
    "        output = model(data)\n",
    "        loss = criterion(output, target)\n",
    "        loss.backward()\n",
    "        optimizer.step()\n",
    "        if (i + 1) % 100 == 0:\n",
    "            print(\"EPOCH {}: Train Step : {}\\tLoss : {:3f}\".format(epoch + 1, i + 1, loss.item()))"
   ]
  },
  {
   "cell_type": "code",
   "execution_count": null,
   "id": "bb589e65-3d02-4f36-89d7-776923a957ee",
   "metadata": {},
   "outputs": [],
   "source": []
  }
 ],
 "metadata": {
  "kernelspec": {
   "display_name": "Python 3 (ipykernel)",
   "language": "python",
   "name": "python3"
  },
  "language_info": {
   "codemirror_mode": {
    "name": "ipython",
    "version": 3
   },
   "file_extension": ".py",
   "mimetype": "text/x-python",
   "name": "python",
   "nbconvert_exporter": "python",
   "pygments_lexer": "ipython3",
   "version": "3.9.16"
  }
 },
 "nbformat": 4,
 "nbformat_minor": 5
}
