{
 "cells": [
  {
   "cell_type": "code",
   "execution_count": 9,
   "id": "08616056-adf4-4c9e-b762-7209b5057dc6",
   "metadata": {},
   "outputs": [],
   "source": [
    "import numpy as np\n",
    "import cv2\n",
    "import sys\n",
    "import time"
   ]
  },
  {
   "cell_type": "markdown",
   "id": "b98fb2b1-03ad-4918-8ab8-1d73d5f5d57c",
   "metadata": {},
   "source": [
    "### 9.3.5 프로그래밍 실습: YOLO v3으로 물체 검출"
   ]
  },
  {
   "cell_type": "code",
   "execution_count": 8,
   "id": "5d05d7f0-a5f4-4f1a-8f14-9e9f8d7c9ade",
   "metadata": {},
   "outputs": [],
   "source": [
    "def construct_yolo_v3():\n",
    "    f = open(\"./saved_model/coco_names.txt\", 'r')\n",
    "    class_names = [line.strip() for line in f.readlines()]\n",
    "    \n",
    "    model =cv2.dnn.readNet(\"./saved_model/yolov3.weights\", \"./saved_model/yolov3.cfg\")\n",
    "    layer_names = model.getLayerNames()\n",
    "    out_layers = [layer_names[i-1] for i in model.getUnconnectedOutLayers()]\n",
    "    \n",
    "    return model, out_layers, class_names\n",
    "\n",
    "\n",
    "def yolo_detect(img, yolo_model, out_layers):\n",
    "    height, width = img.shape[0], img.shape[1]\n",
    "    test_img = cv2.dnn.blobFromImage(img, 1.0/256, (448, 448), (0, 0, 0), swapRB=True)\n",
    "    yolo_model.setInput(test_img)\n",
    "    output3 = yolo_model.forward(out_layers)\n",
    "    \n",
    "    box, conf, id = [], [], []\n",
    "    for output in output3:\n",
    "        for vec85 in output:\n",
    "            scores = vec85[5:]\n",
    "            class_id = np.argmax(scores)\n",
    "            confidence = scores[class_id]\n",
    "            if confidence > 0.5:\n",
    "                centerx, centery = int(vec85[0]*width), int(vec85[1]*height)\n",
    "                w, h = int(vec85[2]*width), int(vec85[3]*height)\n",
    "                x, y = int(centerx - w/2), int(centery - h/2)\n",
    "                box.append([x, y, x+w, y+h])\n",
    "                conf.append(float(confidence))\n",
    "                id.append(class_id)\n",
    "    ind = cv2.dnn.NMSBoxes(box, conf, 0.5, 0.4)\n",
    "    objects = [box[i] + [conf[i]] + [id[i]] for i in range(len(box)) if i in ind]\n",
    "    return objects\n",
    "\n",
    "\n",
    "model, out_layers, class_names = construct_yolo_v3()\n",
    "colors = np.random.uniform(0, 255, size=(len(class_names), 3))\n",
    "\n",
    "img = cv2.imread(\"./imgs/soccer.jpg\")\n",
    "\n",
    "res = yolo_detect(img, model, out_layers)\n",
    "\n",
    "for i in range(len(res)):\n",
    "    x1, y1, x2, y2, confidence, id = res[i]\n",
    "    text = str(class_names[id]) + \"%.3f\" %confidence\n",
    "    cv2.rectangle(img, (x1, y1), (x2, y2), colors[id], 2)\n",
    "    cv2.putText(img, text, (x1, y1+30), cv2.FONT_HERSHEY_PLAIN, 1.5, colors[id], 2)\n",
    "    \n",
    "cv2.imshow(\"Object detection by YOLO v.3\", img)\n",
    "cv2.waitKey()\n",
    "cv2.destroyAllWindows()"
   ]
  },
  {
   "cell_type": "code",
   "execution_count": 14,
   "id": "c2c5565d-0c64-4231-bef9-b674a506e05a",
   "metadata": {},
   "outputs": [
    {
     "name": "stdout",
     "output_type": "stream",
     "text": [
      "처리한 프레임수 = 23 , 경과시간= 6.642044544219971 \n",
      "초당 프레임 수= 3.4627891828902326\n"
     ]
    }
   ],
   "source": [
    "cap = cv2.VideoCapture(\"video/boy.mov\")\n",
    "\n",
    "start = time.time()\n",
    "n_frame = 0\n",
    "while True:\n",
    "    ret, frame = cap.read()\n",
    "    \n",
    "    res = yolo_detect(frame, model, out_layers)\n",
    "    \n",
    "    for i in range(len(res)):\n",
    "        x1, y1, x2, y2, confidence, id = res[i]\n",
    "        text = str(class_names[id]) + \"%.3f\"%confidence\n",
    "        cv2.rectangle(frame, (x1, y1), (x2, y2), colors[id], 2)\n",
    "        cv2.putText(frame, text, (x1, y1+30), cv2.FONT_HERSHEY_PLAIN, 1.5, colors[id], 2)\n",
    "    \n",
    "    cv2.imshow(\"object detection from video by YOLO v.3\", frame)\n",
    "    n_frame += 1\n",
    "    \n",
    "    key = cv2.waitKey(1)\n",
    "    if key == ord('q'): break\n",
    "\n",
    "end = time.time()\n",
    "print(\"처리한 프레임수 =\", n_frame, \", 경과시간=\", end-start, \"\\n초당 프레임 수=\", n_frame/(end-start))\n",
    "\n",
    "cap.release()\n",
    "cv2.destroyAllWindows()"
   ]
  }
 ],
 "metadata": {
  "kernelspec": {
   "display_name": "Python 3 (ipykernel)",
   "language": "python",
   "name": "python3"
  },
  "language_info": {
   "codemirror_mode": {
    "name": "ipython",
    "version": 3
   },
   "file_extension": ".py",
   "mimetype": "text/x-python",
   "name": "python",
   "nbconvert_exporter": "python",
   "pygments_lexer": "ipython3",
   "version": "3.8.0"
  }
 },
 "nbformat": 4,
 "nbformat_minor": 5
}
